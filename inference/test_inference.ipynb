{
 "cells": [
  {
   "cell_type": "code",
   "execution_count": 6,
   "metadata": {},
   "outputs": [],
   "source": [
    "import sys\n",
    "module_path = \"/home/work/Dacon-YAI/devch\"\n",
    "sys.path.append(module_path)\n",
    "import torch\n",
    "device = \"cuda\"\n",
    "from models.unet.UNet3Plus import UNet3Plus_DeepSup_CGM\n",
    "import yaml\n",
    "\n",
    "with open(\"/home/work/Dacon-YAI/devch/models/unet3plus_deepsup_cgm.yaml\") as f:\n",
    "    cfg = yaml.safe_load(f)\n",
    "\n",
    "model = UNet3Plus_DeepSup_CGM(**cfg[\"model\"])\n",
    "filename = \"/home/work/Dacon-YAI/devch/models/ckpt/unet3plus_deepsup_cgm/Unet3plus_deepsup_cgm_shallow_266_07-21-14:22\"\n",
    "model.load_state_dict(torch.load(filename))\n",
    "model.to(device).eval()"
   ]
  },
  {
   "cell_type": "code",
   "execution_count": 7,
   "metadata": {},
   "outputs": [],
   "source": [
    "import albumentations as A\n",
    "from albumentations.pytorch import ToTensorV2\n",
    "\n",
    "transform = A.Compose(\n",
    "    [   \n",
    "        A.Normalize(),\n",
    "        ToTensorV2()\n",
    "    ])"
   ]
  },
  {
   "cell_type": "code",
   "execution_count": 11,
   "metadata": {},
   "outputs": [],
   "source": [
    "import cv2\n",
    "image = cv2.imread(\"/home/work/Dacon-YAI/data/test_img/TEST_00001.png\")\n",
    "# print(img_path.replace(\".\",\"data\"))\n",
    "image = cv2.cvtColor(image, cv2.COLOR_BGR2RGB)\n",
    "\n",
    "image = transform(image=image)[\"image\"].unsqueeze(0)"
   ]
  },
  {
   "cell_type": "code",
   "execution_count": 12,
   "metadata": {},
   "outputs": [
    {
     "data": {
      "text/plain": [
       "tensor([[[[-0.9363, -0.9363, -1.0733,  ..., -1.5185, -1.6042, -1.6727],\n",
       "          [-1.5528, -1.5528, -1.4158,  ..., -1.4329, -1.2959, -1.3473],\n",
       "          [-1.6555, -1.6898, -1.5528,  ..., -1.4500, -1.3473, -1.3644],\n",
       "          ...,\n",
       "          [-1.6213, -1.6042, -1.5870,  ...,  0.5536,  0.4851,  0.4508],\n",
       "          [-1.6384, -1.6727, -1.6555,  ...,  0.4679,  0.4508,  0.5022],\n",
       "          [-1.6384, -1.6384, -1.6042,  ...,  0.5536,  0.6563,  0.8961]],\n",
       "\n",
       "         [[-0.4776, -0.4776, -0.6176,  ..., -1.0903, -1.1779, -1.2479],\n",
       "          [-1.1078, -1.1253, -0.9678,  ..., -1.0028, -0.8627, -0.8978],\n",
       "          [-1.2304, -1.2654, -1.1253,  ..., -1.0203, -0.9153, -0.9328],\n",
       "          ...,\n",
       "          [-1.1954, -1.1779, -1.1604,  ...,  0.4503,  0.3803,  0.3102],\n",
       "          [-1.2304, -1.2654, -1.2479,  ...,  0.3978,  0.3978,  0.4503],\n",
       "          [-1.2304, -1.2304, -1.1954,  ...,  0.4853,  0.5903,  0.8354]],\n",
       "\n",
       "         [[-0.2881, -0.2532, -0.3578,  ..., -0.7587, -0.8284, -0.8981],\n",
       "          [-0.8458, -0.8458, -0.6890,  ..., -0.6890, -0.5844, -0.6193],\n",
       "          [-0.9330, -0.9330, -0.8110,  ..., -0.7761, -0.6715, -0.6715],\n",
       "          ...,\n",
       "          [-0.8633, -0.8458, -0.8110,  ...,  0.6182,  0.5485,  0.4962],\n",
       "          [-0.7587, -0.7936, -0.7761,  ...,  0.6182,  0.6008,  0.6531],\n",
       "          [-0.7587, -0.7587, -0.7238,  ...,  0.7054,  0.8099,  1.0539]]]])"
      ]
     },
     "execution_count": 12,
     "metadata": {},
     "output_type": "execute_result"
    }
   ],
   "source": [
    "image"
   ]
  },
  {
   "cell_type": "code",
   "execution_count": 13,
   "metadata": {},
   "outputs": [],
   "source": [
    "result = model(image)"
   ]
  },
  {
   "cell_type": "code",
   "execution_count": 14,
   "metadata": {},
   "outputs": [
    {
     "data": {
      "text/plain": [
       "(tensor([[[[0.5000, 0.5000, 0.5000,  ..., 0.5000, 0.5000, 0.5000],\n",
       "           [0.5000, 0.5000, 0.5000,  ..., 0.5000, 0.5000, 0.5000],\n",
       "           [0.5000, 0.5000, 0.5000,  ..., 0.5000, 0.5000, 0.5000],\n",
       "           ...,\n",
       "           [0.5000, 0.5000, 0.5000,  ..., 0.5000, 0.5000, 0.5000],\n",
       "           [0.5000, 0.5000, 0.5000,  ..., 0.5000, 0.5000, 0.5000],\n",
       "           [0.5000, 0.5000, 0.5000,  ..., 0.5000, 0.5000, 0.5000]]]],\n",
       "        grad_fn=<SigmoidBackward0>),\n",
       " tensor([[[[0.5000, 0.5000, 0.5000,  ..., 0.5000, 0.5000, 0.5000],\n",
       "           [0.5000, 0.5000, 0.5000,  ..., 0.5000, 0.5000, 0.5000],\n",
       "           [0.5000, 0.5000, 0.5000,  ..., 0.5000, 0.5000, 0.5000],\n",
       "           ...,\n",
       "           [0.5000, 0.5000, 0.5000,  ..., 0.5000, 0.5000, 0.5000],\n",
       "           [0.5000, 0.5000, 0.5000,  ..., 0.5000, 0.5000, 0.5000],\n",
       "           [0.5000, 0.5000, 0.5000,  ..., 0.5000, 0.5000, 0.5000]]]],\n",
       "        grad_fn=<SigmoidBackward0>),\n",
       " tensor([[[[0.5000, 0.5000, 0.5000,  ..., 0.5000, 0.5000, 0.5000],\n",
       "           [0.5000, 0.5000, 0.5000,  ..., 0.5000, 0.5000, 0.5000],\n",
       "           [0.5000, 0.5000, 0.5000,  ..., 0.5000, 0.5000, 0.5000],\n",
       "           ...,\n",
       "           [0.5000, 0.5000, 0.5000,  ..., 0.5000, 0.5000, 0.5000],\n",
       "           [0.5000, 0.5000, 0.5000,  ..., 0.5000, 0.5000, 0.5000],\n",
       "           [0.5000, 0.5000, 0.5000,  ..., 0.5000, 0.5000, 0.5000]]]],\n",
       "        grad_fn=<SigmoidBackward0>),\n",
       " tensor([[[[0.5000, 0.5000, 0.5000,  ..., 0.5000, 0.5000, 0.5000],\n",
       "           [0.5000, 0.5000, 0.5000,  ..., 0.5000, 0.5000, 0.5000],\n",
       "           [0.5000, 0.5000, 0.5000,  ..., 0.5000, 0.5000, 0.5000],\n",
       "           ...,\n",
       "           [0.5000, 0.5000, 0.5000,  ..., 0.5000, 0.5000, 0.5000],\n",
       "           [0.5000, 0.5000, 0.5000,  ..., 0.5000, 0.5000, 0.5000],\n",
       "           [0.5000, 0.5000, 0.5000,  ..., 0.5000, 0.5000, 0.5000]]]],\n",
       "        grad_fn=<SigmoidBackward0>),\n",
       " tensor([[[[0.5000, 0.5000, 0.5000,  ..., 0.5000, 0.5000, 0.5000],\n",
       "           [0.5000, 0.5000, 0.5000,  ..., 0.5000, 0.5000, 0.5000],\n",
       "           [0.5000, 0.5000, 0.5000,  ..., 0.5000, 0.5000, 0.5000],\n",
       "           ...,\n",
       "           [0.5000, 0.5000, 0.5000,  ..., 0.5000, 0.5000, 0.5000],\n",
       "           [0.5000, 0.5000, 0.5000,  ..., 0.5000, 0.5000, 0.5000],\n",
       "           [0.5000, 0.5000, 0.5000,  ..., 0.5000, 0.5000, 0.5000]]]],\n",
       "        grad_fn=<SigmoidBackward0>))"
      ]
     },
     "execution_count": 14,
     "metadata": {},
     "output_type": "execute_result"
    }
   ],
   "source": [
    "result"
   ]
  },
  {
   "cell_type": "code",
   "execution_count": null,
   "metadata": {},
   "outputs": [],
   "source": []
  }
 ],
 "metadata": {
  "kernelspec": {
   "display_name": "Python 3.11.4 ('dacon': conda)",
   "language": "python",
   "name": "python3"
  },
  "language_info": {
   "codemirror_mode": {
    "name": "ipython",
    "version": 3
   },
   "file_extension": ".py",
   "mimetype": "text/x-python",
   "name": "python",
   "nbconvert_exporter": "python",
   "pygments_lexer": "ipython3",
   "version": "3.11.4"
  },
  "orig_nbformat": 4,
  "vscode": {
   "interpreter": {
    "hash": "fcebf7bc036db44c8db0235af63ac9b02fb348a58233f43038ccd7396ecaaa42"
   }
  }
 },
 "nbformat": 4,
 "nbformat_minor": 2
}

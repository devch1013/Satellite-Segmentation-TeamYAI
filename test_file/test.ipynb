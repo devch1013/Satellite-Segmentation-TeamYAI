{
 "cells": [
  {
   "cell_type": "code",
   "execution_count": 8,
   "metadata": {},
   "outputs": [],
   "source": [
    "import torch\n",
    "\n",
    "def dotProduct(seg, cls):\n",
    "    B, N, H, W = seg.size()\n",
    "    seg = seg.view(B, N, H * W)\n",
    "    final = torch.einsum(\"ijk,ij->ijk\", [seg, cls])\n",
    "    final = final.view(B, N, H, W)\n",
    "    return final"
   ]
  },
  {
   "cell_type": "code",
   "execution_count": 16,
   "metadata": {},
   "outputs": [
    {
     "data": {
      "text/plain": [
       "tensor([[[[0.4055, 0.7454, 0.3303, 0.1736],\n",
       "          [0.2081, 0.2903, 0.6503, 0.5204],\n",
       "          [0.0198, 0.4589, 0.8852, 0.5979],\n",
       "          [0.4754, 0.2286, 0.6220, 0.9284]]],\n",
       "\n",
       "\n",
       "        [[[0.6634, 0.2717, 0.2487, 0.9322],\n",
       "          [0.6603, 0.9969, 0.0418, 0.6284],\n",
       "          [0.8117, 0.1622, 0.0442, 0.1281],\n",
       "          [0.6391, 0.7414, 0.9232, 0.4868]]]])"
      ]
     },
     "execution_count": 16,
     "metadata": {},
     "output_type": "execute_result"
    }
   ],
   "source": [
    "seg = torch.rand(2,1,4,4)\n",
    "seg"
   ]
  },
  {
   "cell_type": "code",
   "execution_count": 17,
   "metadata": {},
   "outputs": [
    {
     "data": {
      "text/plain": [
       "tensor([[1],\n",
       "        [0]])"
      ]
     },
     "execution_count": 17,
     "metadata": {},
     "output_type": "execute_result"
    }
   ],
   "source": [
    "cls = torch.tensor([[1],[0]])\n",
    "cls"
   ]
  },
  {
   "cell_type": "code",
   "execution_count": 18,
   "metadata": {},
   "outputs": [
    {
     "data": {
      "text/plain": [
       "tensor([[[[0.4055, 0.7454, 0.3303, 0.1736],\n",
       "          [0.2081, 0.2903, 0.6503, 0.5204],\n",
       "          [0.0198, 0.4589, 0.8852, 0.5979],\n",
       "          [0.4754, 0.2286, 0.6220, 0.9284]]],\n",
       "\n",
       "\n",
       "        [[[0.0000, 0.0000, 0.0000, 0.0000],\n",
       "          [0.0000, 0.0000, 0.0000, 0.0000],\n",
       "          [0.0000, 0.0000, 0.0000, 0.0000],\n",
       "          [0.0000, 0.0000, 0.0000, 0.0000]]]])"
      ]
     },
     "execution_count": 18,
     "metadata": {},
     "output_type": "execute_result"
    },
    {
     "ename": "",
     "evalue": "",
     "output_type": "error",
     "traceback": [
      "\u001b[1;31mThe Kernel crashed while executing code in the the current cell or a previous cell. Please review the code in the cell(s) to identify a possible cause of the failure. Click <a href='https://aka.ms/vscodeJupyterKernelCrash'>here</a> for more info. View Jupyter <a href='command:jupyter.viewOutput'>log</a> for further details."
     ]
    }
   ],
   "source": [
    "dotProduct(seg,cls)"
   ]
  },
  {
   "cell_type": "code",
   "execution_count": null,
   "metadata": {},
   "outputs": [],
   "source": []
  },
  {
   "cell_type": "code",
   "execution_count": null,
   "metadata": {},
   "outputs": [],
   "source": []
  },
  {
   "cell_type": "code",
   "execution_count": null,
   "metadata": {},
   "outputs": [],
   "source": []
  },
  {
   "cell_type": "code",
   "execution_count": null,
   "metadata": {},
   "outputs": [],
   "source": []
  },
  {
   "cell_type": "code",
   "execution_count": null,
   "metadata": {},
   "outputs": [],
   "source": []
  },
  {
   "cell_type": "code",
   "execution_count": null,
   "metadata": {},
   "outputs": [],
   "source": []
  }
 ],
 "metadata": {
  "kernelspec": {
   "display_name": "Python 3.10.12 ('dacon': conda)",
   "language": "python",
   "name": "python3"
  },
  "language_info": {
   "codemirror_mode": {
    "name": "ipython",
    "version": 3
   },
   "file_extension": ".py",
   "mimetype": "text/x-python",
   "name": "python",
   "nbconvert_exporter": "python",
   "pygments_lexer": "ipython3",
   "version": "3.11.4"
  },
  "orig_nbformat": 4,
  "vscode": {
   "interpreter": {
    "hash": "627bbcc9fe2f95079868e3f85e314ec0a851459b33a7bf5aa43dc4dbd55bdba6"
   }
  }
 },
 "nbformat": 4,
 "nbformat_minor": 2
}
